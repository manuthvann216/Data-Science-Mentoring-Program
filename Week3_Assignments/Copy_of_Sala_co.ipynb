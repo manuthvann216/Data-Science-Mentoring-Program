{
  "nbformat": 4,
  "nbformat_minor": 0,
  "metadata": {
    "colab": {
      "provenance": []
    },
    "kernelspec": {
      "name": "python3",
      "display_name": "Python 3"
    },
    "language_info": {
      "name": "python"
    }
  },
  "cells": [
    {
      "cell_type": "markdown",
      "source": [
        "##Auto Scraper Approach\n",
        "\n",
        "When we talk about scraping, then there is lots of stuff on the website that we want to scrap but writable scripts take lots of time to scrape data and it is a very lengthy process, to overcome this problem a group of python developers develops a library which will scrape the whole data from a website in an easy way. So AutoScraper is the web scraping python library that is used for scraping data from a website in a simple, easy and fast way. It has a user-friendly environment by this scraper can easily interact with this library."
      ],
      "metadata": {
        "id": "HXqJioeJ64L3"
      }
    },
    {
      "cell_type": "code",
      "execution_count": 1,
      "metadata": {
        "colab": {
          "base_uri": "https://localhost:8080/"
        },
        "id": "_fQA_YZrohSr",
        "outputId": "637b6c05-9cbd-4249-8821-6d6e5a93732b"
      },
      "outputs": [
        {
          "output_type": "stream",
          "name": "stdout",
          "text": [
            "Looking in indexes: https://pypi.org/simple, https://us-python.pkg.dev/colab-wheels/public/simple/\n",
            "Collecting autoscraper\n",
            "  Downloading autoscraper-1.1.14-py3-none-any.whl (10 kB)\n",
            "Requirement already satisfied: lxml in /usr/local/lib/python3.10/dist-packages (from autoscraper) (4.9.2)\n",
            "Requirement already satisfied: requests in /usr/local/lib/python3.10/dist-packages (from autoscraper) (2.27.1)\n",
            "Collecting bs4\n",
            "  Downloading bs4-0.0.1.tar.gz (1.1 kB)\n",
            "  Preparing metadata (setup.py) ... \u001b[?25l\u001b[?25hdone\n",
            "Requirement already satisfied: beautifulsoup4 in /usr/local/lib/python3.10/dist-packages (from bs4->autoscraper) (4.11.2)\n",
            "Requirement already satisfied: idna<4,>=2.5 in /usr/local/lib/python3.10/dist-packages (from requests->autoscraper) (3.4)\n",
            "Requirement already satisfied: charset-normalizer~=2.0.0 in /usr/local/lib/python3.10/dist-packages (from requests->autoscraper) (2.0.12)\n",
            "Requirement already satisfied: urllib3<1.27,>=1.21.1 in /usr/local/lib/python3.10/dist-packages (from requests->autoscraper) (1.26.15)\n",
            "Requirement already satisfied: certifi>=2017.4.17 in /usr/local/lib/python3.10/dist-packages (from requests->autoscraper) (2022.12.7)\n",
            "Requirement already satisfied: soupsieve>1.2 in /usr/local/lib/python3.10/dist-packages (from beautifulsoup4->bs4->autoscraper) (2.4.1)\n",
            "Building wheels for collected packages: bs4\n",
            "  Building wheel for bs4 (setup.py) ... \u001b[?25l\u001b[?25hdone\n",
            "  Created wheel for bs4: filename=bs4-0.0.1-py3-none-any.whl size=1270 sha256=4f21fec1d49b6e198fd221e9c78e5b8fbaee988628a4ee1ec6fff56b6b9ea8d0\n",
            "  Stored in directory: /root/.cache/pip/wheels/25/42/45/b773edc52acb16cd2db4cf1a0b47117e2f69bb4eb300ed0e70\n",
            "Successfully built bs4\n",
            "Installing collected packages: bs4, autoscraper\n",
            "Successfully installed autoscraper-1.1.14 bs4-0.0.1\n"
          ]
        }
      ],
      "source": [
        "!pip install autoscraper"
      ]
    },
    {
      "cell_type": "code",
      "source": [
        "from autoscraper import AutoScraper\n",
        "import pandas as pd\n",
        "search = \"phnom%20penh\"\n",
        "sala_url=\"https://www.sala.co/search?q={}\".format(search)\n",
        "print(sala_url)"
      ],
      "metadata": {
        "colab": {
          "base_uri": "https://localhost:8080/"
        },
        "id": "p17FUXbfqXFg",
        "outputId": "8c7dc10b-c8e7-4aa6-a794-9710544995dd"
      },
      "execution_count": 2,
      "outputs": [
        {
          "output_type": "stream",
          "name": "stdout",
          "text": [
            "https://www.sala.co/search?q=phnom%20penh\n"
          ]
        }
      ]
    },
    {
      "cell_type": "code",
      "source": [
        "wanted_list=[\"https://academics-bucket-sj19asxm-prod.s3.ap-southeast-1.amazonaws.com/70204ba9-6456-4f2c-9246-b1b95f16ae30/feature-image.jpg\",\"American University of Phnom Penh (AUPP)\",\"university\"]\n",
        "print(type(wanted_list))"
      ],
      "metadata": {
        "colab": {
          "base_uri": "https://localhost:8080/"
        },
        "id": "86ahX1CBqarO",
        "outputId": "68248bed-de16-4218-f981-b949f0443f2e"
      },
      "execution_count": 3,
      "outputs": [
        {
          "output_type": "stream",
          "name": "stdout",
          "text": [
            "<class 'list'>\n"
          ]
        }
      ]
    },
    {
      "cell_type": "code",
      "source": [
        "scraper=AutoScraper()\n",
        "result=scraper.build(sala_url,wanted_list)\n",
        "data = scraper.get_result_similar(sala_url,grouped=True)\n",
        "print(data)"
      ],
      "metadata": {
        "colab": {
          "base_uri": "https://localhost:8080/"
        },
        "id": "d0T-xChKqfgH",
        "outputId": "e798d133-d1e4-46cb-f1af-8d742573e09d"
      },
      "execution_count": 4,
      "outputs": [
        {
          "output_type": "stream",
          "name": "stdout",
          "text": [
            "{'rule_odto': ['https://academics-bucket-sj19asxm-prod.s3.ap-southeast-1.amazonaws.com/70204ba9-6456-4f2c-9246-b1b95f16ae30/feature-image.jpg', 'https://academics-bucket-sj19asxm-prod.s3.ap-southeast-1.amazonaws.com/e3523b5a-608a-4614-90ff-c4ef62d2cf2c/feature-image.jpg', 'https://academics-bucket-sj19asxm-prod.s3.ap-southeast-1.amazonaws.com/ab7eea2a-d5f0-4103-81a5-f2e3042f2a00/feature-image.jpg', 'https://academics-bucket-sj19asxm-prod.s3.ap-southeast-1.amazonaws.com/c2765282-025a-4abb-87ad-a309ec66f543/feature-image.jpg', 'https://academics-bucket-sj19asxm-prod.s3.ap-southeast-1.amazonaws.com/3268bdb3-39f2-4818-87cb-7939736f2740/feature-image.jpg', 'https://academics-bucket-sj19asxm-prod.s3.ap-southeast-1.amazonaws.com/aa940e0a-94c4-484c-b358-ce1606bb1ca2/feature-image.jpg'], 'rule_0oqq': ['https://academics-bucket-sj19asxm-prod.s3.ap-southeast-1.amazonaws.com/70204ba9-6456-4f2c-9246-b1b95f16ae30/feature-image.jpg'], 'rule_onaj': ['American University of Phnom Penh (AUPP)', 'Phnom Penh Institute of Technology (PPIT)', 'Phnom Penh International Institute of the Arts (PPIIA)', 'Phnom Penh International University (PPIU) (PPIU)', 'Royal University of Phnom Penh (RUPP)', 'Royal University of Phnom Penh Faculty of Social Sciences and Humanities (RUPP)'], 'rule_q4xt': ['university', 'university', 'university', 'university', 'university', 'university'], 'rule_xlxf': ['university', 'university', 'university', 'university', 'university', 'university'], 'rule_opmm': ['university', 'university', 'university', 'university', 'university', 'university'], 'rule_k46y': ['university', 'university', 'university', 'university', 'university', 'university'], 'rule_igid': ['university', 'university', 'university', 'university', 'university', 'university'], 'rule_z4jz': ['university', 'university', 'university', 'university', 'university', 'university']}\n"
          ]
        }
      ]
    },
    {
      "cell_type": "code",
      "source": [
        "keys = list(data.keys())\n",
        "print(keys)"
      ],
      "metadata": {
        "colab": {
          "base_uri": "https://localhost:8080/"
        },
        "id": "ZKO2yRpmqkhk",
        "outputId": "7c76dbf5-00d3-4dee-eb65-d8ed435ccb8a"
      },
      "execution_count": 5,
      "outputs": [
        {
          "output_type": "stream",
          "name": "stdout",
          "text": [
            "['rule_odto', 'rule_0oqq', 'rule_onaj', 'rule_q4xt', 'rule_xlxf', 'rule_opmm', 'rule_k46y', 'rule_igid', 'rule_z4jz']\n"
          ]
        }
      ]
    },
    {
      "cell_type": "code",
      "source": [
        "scraper.set_rule_aliases({str(keys[0]):'ImageUrl',str(keys[2]):'Title',str(keys[3]):'Type'})\n",
        "scraper.save(\"sala.json\")\n",
        "sala_scraper = AutoScraper()\n",
        "sala_scraper.load('sala.json')"
      ],
      "metadata": {
        "id": "7aVOggqCqmuH"
      },
      "execution_count": 6,
      "outputs": []
    },
    {
      "cell_type": "code",
      "source": [
        "search = \"institute\"\n",
        "sala_url=\"https://www.sala.co/search?q={}\".format(search)\n",
        "\n",
        "data = sala_scraper.get_result_similar(sala_url, group_by_alias=True)\n",
        "search_data = tuple(zip(data['ImageUrl'],data['Title'],data['Type']))\n",
        "\n",
        "df = pd.DataFrame(columns=['Query','Title','ImageUrl','Type'])\n",
        "for i in range(len(search_data)):\n",
        "    df.loc[len(df)] = [search,search_data[i][1],search_data[i][0],search_data[i][2]]\n",
        "    \n",
        "print(df.shape)\n",
        "df.head(15)"
      ],
      "metadata": {
        "colab": {
          "base_uri": "https://localhost:8080/",
          "height": 695
        },
        "id": "DN3NzbBJqui4",
        "outputId": "b6f95379-a65a-4642-a623-01ac91e614c4"
      },
      "execution_count": 7,
      "outputs": [
        {
          "output_type": "stream",
          "name": "stdout",
          "text": [
            "(12, 4)\n"
          ]
        },
        {
          "output_type": "execute_result",
          "data": {
            "text/plain": [
              "        Query                                        Title  \\\n",
              "0   institute                     Instinct Institute (INS)   \n",
              "1   institute          ACLEDA Institute of Business  (AIB)   \n",
              "2   institute              Asia Institute of Science (AIS)   \n",
              "3   institute       Health Science Institute of RCAF (HSI)   \n",
              "4   institute          IT Academy STEP Institute (IT STEP)   \n",
              "5   institute         Industrial Technical Institute (ITI)   \n",
              "6   institute        Institute of Electrical Science (IES)   \n",
              "7   institute    Institute of Finance and Accounting (IFA)   \n",
              "8   institute    Institute of Technology of Cambodia (ITC)   \n",
              "9   institute  Kirirom Institute of Technology - KIT (KIT)   \n",
              "10  institute    Mong Reththy Agriculture Institute (MRAI)   \n",
              "11  institute         National Institute of Business (NIB)   \n",
              "\n",
              "                                             ImageUrl  \\\n",
              "0   https://academics-bucket-sj19asxm-prod.s3.ap-s...   \n",
              "1   https://academics-bucket-sj19asxm-prod.s3.ap-s...   \n",
              "2   https://academics-bucket-sj19asxm-prod.s3.ap-s...   \n",
              "3   https://academics-bucket-sj19asxm-prod.s3.ap-s...   \n",
              "4   https://academics-bucket-sj19asxm-prod.s3.ap-s...   \n",
              "5   https://academics-bucket-sj19asxm-prod.s3.ap-s...   \n",
              "6   https://academics-bucket-sj19asxm-prod.s3.ap-s...   \n",
              "7   https://academics-bucket-sj19asxm-prod.s3.ap-s...   \n",
              "8   https://academics-bucket-sj19asxm-prod.s3.ap-s...   \n",
              "9   https://academics-bucket-sj19asxm-prod.s3.ap-s...   \n",
              "10  https://academics-bucket-sj19asxm-prod.s3.ap-s...   \n",
              "11  https://academics-bucket-sj19asxm-prod.s3.ap-s...   \n",
              "\n",
              "                        Type  \n",
              "0               short-course  \n",
              "1                 university  \n",
              "2                 university  \n",
              "3                 university  \n",
              "4   associate-degree-diploma  \n",
              "5                 university  \n",
              "6                 university  \n",
              "7               short-course  \n",
              "8                 university  \n",
              "9                 vocational  \n",
              "10                vocational  \n",
              "11                university  "
            ],
            "text/html": [
              "\n",
              "  <div id=\"df-f4bd8c1b-5344-42bd-a62d-7cef2805d971\">\n",
              "    <div class=\"colab-df-container\">\n",
              "      <div>\n",
              "<style scoped>\n",
              "    .dataframe tbody tr th:only-of-type {\n",
              "        vertical-align: middle;\n",
              "    }\n",
              "\n",
              "    .dataframe tbody tr th {\n",
              "        vertical-align: top;\n",
              "    }\n",
              "\n",
              "    .dataframe thead th {\n",
              "        text-align: right;\n",
              "    }\n",
              "</style>\n",
              "<table border=\"1\" class=\"dataframe\">\n",
              "  <thead>\n",
              "    <tr style=\"text-align: right;\">\n",
              "      <th></th>\n",
              "      <th>Query</th>\n",
              "      <th>Title</th>\n",
              "      <th>ImageUrl</th>\n",
              "      <th>Type</th>\n",
              "    </tr>\n",
              "  </thead>\n",
              "  <tbody>\n",
              "    <tr>\n",
              "      <th>0</th>\n",
              "      <td>institute</td>\n",
              "      <td>Instinct Institute (INS)</td>\n",
              "      <td>https://academics-bucket-sj19asxm-prod.s3.ap-s...</td>\n",
              "      <td>short-course</td>\n",
              "    </tr>\n",
              "    <tr>\n",
              "      <th>1</th>\n",
              "      <td>institute</td>\n",
              "      <td>ACLEDA Institute of Business  (AIB)</td>\n",
              "      <td>https://academics-bucket-sj19asxm-prod.s3.ap-s...</td>\n",
              "      <td>university</td>\n",
              "    </tr>\n",
              "    <tr>\n",
              "      <th>2</th>\n",
              "      <td>institute</td>\n",
              "      <td>Asia Institute of Science (AIS)</td>\n",
              "      <td>https://academics-bucket-sj19asxm-prod.s3.ap-s...</td>\n",
              "      <td>university</td>\n",
              "    </tr>\n",
              "    <tr>\n",
              "      <th>3</th>\n",
              "      <td>institute</td>\n",
              "      <td>Health Science Institute of RCAF (HSI)</td>\n",
              "      <td>https://academics-bucket-sj19asxm-prod.s3.ap-s...</td>\n",
              "      <td>university</td>\n",
              "    </tr>\n",
              "    <tr>\n",
              "      <th>4</th>\n",
              "      <td>institute</td>\n",
              "      <td>IT Academy STEP Institute (IT STEP)</td>\n",
              "      <td>https://academics-bucket-sj19asxm-prod.s3.ap-s...</td>\n",
              "      <td>associate-degree-diploma</td>\n",
              "    </tr>\n",
              "    <tr>\n",
              "      <th>5</th>\n",
              "      <td>institute</td>\n",
              "      <td>Industrial Technical Institute (ITI)</td>\n",
              "      <td>https://academics-bucket-sj19asxm-prod.s3.ap-s...</td>\n",
              "      <td>university</td>\n",
              "    </tr>\n",
              "    <tr>\n",
              "      <th>6</th>\n",
              "      <td>institute</td>\n",
              "      <td>Institute of Electrical Science (IES)</td>\n",
              "      <td>https://academics-bucket-sj19asxm-prod.s3.ap-s...</td>\n",
              "      <td>university</td>\n",
              "    </tr>\n",
              "    <tr>\n",
              "      <th>7</th>\n",
              "      <td>institute</td>\n",
              "      <td>Institute of Finance and Accounting (IFA)</td>\n",
              "      <td>https://academics-bucket-sj19asxm-prod.s3.ap-s...</td>\n",
              "      <td>short-course</td>\n",
              "    </tr>\n",
              "    <tr>\n",
              "      <th>8</th>\n",
              "      <td>institute</td>\n",
              "      <td>Institute of Technology of Cambodia (ITC)</td>\n",
              "      <td>https://academics-bucket-sj19asxm-prod.s3.ap-s...</td>\n",
              "      <td>university</td>\n",
              "    </tr>\n",
              "    <tr>\n",
              "      <th>9</th>\n",
              "      <td>institute</td>\n",
              "      <td>Kirirom Institute of Technology - KIT (KIT)</td>\n",
              "      <td>https://academics-bucket-sj19asxm-prod.s3.ap-s...</td>\n",
              "      <td>vocational</td>\n",
              "    </tr>\n",
              "    <tr>\n",
              "      <th>10</th>\n",
              "      <td>institute</td>\n",
              "      <td>Mong Reththy Agriculture Institute (MRAI)</td>\n",
              "      <td>https://academics-bucket-sj19asxm-prod.s3.ap-s...</td>\n",
              "      <td>vocational</td>\n",
              "    </tr>\n",
              "    <tr>\n",
              "      <th>11</th>\n",
              "      <td>institute</td>\n",
              "      <td>National Institute of Business (NIB)</td>\n",
              "      <td>https://academics-bucket-sj19asxm-prod.s3.ap-s...</td>\n",
              "      <td>university</td>\n",
              "    </tr>\n",
              "  </tbody>\n",
              "</table>\n",
              "</div>\n",
              "      <button class=\"colab-df-convert\" onclick=\"convertToInteractive('df-f4bd8c1b-5344-42bd-a62d-7cef2805d971')\"\n",
              "              title=\"Convert this dataframe to an interactive table.\"\n",
              "              style=\"display:none;\">\n",
              "        \n",
              "  <svg xmlns=\"http://www.w3.org/2000/svg\" height=\"24px\"viewBox=\"0 0 24 24\"\n",
              "       width=\"24px\">\n",
              "    <path d=\"M0 0h24v24H0V0z\" fill=\"none\"/>\n",
              "    <path d=\"M18.56 5.44l.94 2.06.94-2.06 2.06-.94-2.06-.94-.94-2.06-.94 2.06-2.06.94zm-11 1L8.5 8.5l.94-2.06 2.06-.94-2.06-.94L8.5 2.5l-.94 2.06-2.06.94zm10 10l.94 2.06.94-2.06 2.06-.94-2.06-.94-.94-2.06-.94 2.06-2.06.94z\"/><path d=\"M17.41 7.96l-1.37-1.37c-.4-.4-.92-.59-1.43-.59-.52 0-1.04.2-1.43.59L10.3 9.45l-7.72 7.72c-.78.78-.78 2.05 0 2.83L4 21.41c.39.39.9.59 1.41.59.51 0 1.02-.2 1.41-.59l7.78-7.78 2.81-2.81c.8-.78.8-2.07 0-2.86zM5.41 20L4 18.59l7.72-7.72 1.47 1.35L5.41 20z\"/>\n",
              "  </svg>\n",
              "      </button>\n",
              "      \n",
              "  <style>\n",
              "    .colab-df-container {\n",
              "      display:flex;\n",
              "      flex-wrap:wrap;\n",
              "      gap: 12px;\n",
              "    }\n",
              "\n",
              "    .colab-df-convert {\n",
              "      background-color: #E8F0FE;\n",
              "      border: none;\n",
              "      border-radius: 50%;\n",
              "      cursor: pointer;\n",
              "      display: none;\n",
              "      fill: #1967D2;\n",
              "      height: 32px;\n",
              "      padding: 0 0 0 0;\n",
              "      width: 32px;\n",
              "    }\n",
              "\n",
              "    .colab-df-convert:hover {\n",
              "      background-color: #E2EBFA;\n",
              "      box-shadow: 0px 1px 2px rgba(60, 64, 67, 0.3), 0px 1px 3px 1px rgba(60, 64, 67, 0.15);\n",
              "      fill: #174EA6;\n",
              "    }\n",
              "\n",
              "    [theme=dark] .colab-df-convert {\n",
              "      background-color: #3B4455;\n",
              "      fill: #D2E3FC;\n",
              "    }\n",
              "\n",
              "    [theme=dark] .colab-df-convert:hover {\n",
              "      background-color: #434B5C;\n",
              "      box-shadow: 0px 1px 3px 1px rgba(0, 0, 0, 0.15);\n",
              "      filter: drop-shadow(0px 1px 2px rgba(0, 0, 0, 0.3));\n",
              "      fill: #FFFFFF;\n",
              "    }\n",
              "  </style>\n",
              "\n",
              "      <script>\n",
              "        const buttonEl =\n",
              "          document.querySelector('#df-f4bd8c1b-5344-42bd-a62d-7cef2805d971 button.colab-df-convert');\n",
              "        buttonEl.style.display =\n",
              "          google.colab.kernel.accessAllowed ? 'block' : 'none';\n",
              "\n",
              "        async function convertToInteractive(key) {\n",
              "          const element = document.querySelector('#df-f4bd8c1b-5344-42bd-a62d-7cef2805d971');\n",
              "          const dataTable =\n",
              "            await google.colab.kernel.invokeFunction('convertToInteractive',\n",
              "                                                     [key], {});\n",
              "          if (!dataTable) return;\n",
              "\n",
              "          const docLinkHtml = 'Like what you see? Visit the ' +\n",
              "            '<a target=\"_blank\" href=https://colab.research.google.com/notebooks/data_table.ipynb>data table notebook</a>'\n",
              "            + ' to learn more about interactive tables.';\n",
              "          element.innerHTML = '';\n",
              "          dataTable['output_type'] = 'display_data';\n",
              "          await google.colab.output.renderOutput(dataTable, element);\n",
              "          const docLink = document.createElement('div');\n",
              "          docLink.innerHTML = docLinkHtml;\n",
              "          element.appendChild(docLink);\n",
              "        }\n",
              "      </script>\n",
              "    </div>\n",
              "  </div>\n",
              "  "
            ]
          },
          "metadata": {},
          "execution_count": 7
        }
      ]
    },
    {
      "cell_type": "code",
      "source": [
        "for index, row in df.head(1).iterrows():\n",
        "    image_url = row['ImageUrl']\n",
        "    print(\"Image URL:\", image_url)"
      ],
      "metadata": {
        "colab": {
          "base_uri": "https://localhost:8080/"
        },
        "id": "8gyMXTt729zE",
        "outputId": "323b878f-58e3-4236-802c-2454c074c20c"
      },
      "execution_count": 9,
      "outputs": [
        {
          "output_type": "stream",
          "name": "stdout",
          "text": [
            "Image URL: https://academics-bucket-sj19asxm-prod.s3.ap-southeast-1.amazonaws.com/7b2efbbb-7297-4415-bd4f-fd75ea0678be/feature-image.jpg\n"
          ]
        }
      ]
    },
    {
      "cell_type": "code",
      "source": [
        "img = [image_url,\"School Image\"]"
      ],
      "metadata": {
        "id": "dKucXJ7X4VgR"
      },
      "execution_count": 10,
      "outputs": []
    },
    {
      "cell_type": "code",
      "source": [
        "# creating object\n",
        "scrape = AutoScraper()\n",
        "# building result\n",
        "final_result = scrape.build( sala_url, img )\n",
        "# display result\n",
        "print(final_result)"
      ],
      "metadata": {
        "colab": {
          "base_uri": "https://localhost:8080/"
        },
        "id": "65i1otDz40z_",
        "outputId": "a4261124-02e9-4ffb-e7cb-4756b9b9d9ce"
      },
      "execution_count": 11,
      "outputs": [
        {
          "output_type": "stream",
          "name": "stdout",
          "text": [
            "['https://academics-bucket-sj19asxm-prod.s3.ap-southeast-1.amazonaws.com/7b2efbbb-7297-4415-bd4f-fd75ea0678be/feature-image.jpg', 'https://academics-bucket-sj19asxm-prod.s3.ap-southeast-1.amazonaws.com/be11dc65-bd20-4ebe-a41d-384228508f42/feature-image.jpg', 'https://academics-bucket-sj19asxm-prod.s3.ap-southeast-1.amazonaws.com/0b26d92c-87b0-4911-9370-d36cbc805c34/feature-image.jpg', 'https://academics-bucket-sj19asxm-prod.s3.ap-southeast-1.amazonaws.com/29b691b1-7a1a-46d6-95a9-85f961f281e0/feature-image.png', 'https://academics-bucket-sj19asxm-prod.s3.ap-southeast-1.amazonaws.com/f1c30af8-94e8-4bc2-a772-4be5dc82646f/feature-image.jpg', 'https://academics-bucket-sj19asxm-prod.s3.ap-southeast-1.amazonaws.com/b4c3fbd0-c8cd-4d3a-bd4e-65b970f36374/feature-image.jpg', 'https://academics-bucket-sj19asxm-prod.s3.ap-southeast-1.amazonaws.com/2ff23fec-e5fd-4654-8ebc-3df12a60d4f6/feature-image.jpg', 'https://academics-bucket-sj19asxm-prod.s3.ap-southeast-1.amazonaws.com/1aecafe3-817f-4bd4-a8b9-e1b7bd0f7864/feature-image.jpg', 'https://academics-bucket-sj19asxm-prod.s3.ap-southeast-1.amazonaws.com/2387b0ec-4da2-4220-9710-18cd86536da3/feature-image.jpg', 'https://academics-bucket-sj19asxm-prod.s3.ap-southeast-1.amazonaws.com/6b5ccec8-4626-4f4f-aefb-50d273458507/feature-image.jpg', 'https://academics-bucket-sj19asxm-prod.s3.ap-southeast-1.amazonaws.com/e8f5c71f-7ecd-4b9c-9bc2-f5498ba0217d/feature-image.jpg', 'https://academics-bucket-sj19asxm-prod.s3.ap-southeast-1.amazonaws.com/a78dc54a-ec32-4965-9bdb-47c5965cfb88/feature-image.png']\n"
          ]
        }
      ]
    },
    {
      "cell_type": "code",
      "source": [
        "import os\n",
        "import requests\n",
        "import pandas as pd\n",
        "\n",
        "# Create a folder to store the images\n",
        "folder_path = \"image_folder\"  # Replace with your desired folder path\n",
        "os.makedirs(folder_path, exist_ok=True)\n",
        "\n",
        "# Download images and store them in respective folders\n",
        "for index, row in df.iterrows():\n",
        "    title = row['Title']\n",
        "    image_url = row['ImageUrl']\n",
        "    \n",
        "    # Create a folder for the title if it doesn't exist\n",
        "    title_folder_path = os.path.join(folder_path, title)\n",
        "    os.makedirs(title_folder_path, exist_ok=True)\n",
        "    \n",
        "    # Extract the image filename from the URL\n",
        "    filename = image_url.split(\"/\")[-1]\n",
        "    \n",
        "    # Download the image\n",
        "    response = requests.get(image_url)\n",
        "    image_path = os.path.join(title_folder_path, filename)\n",
        "    \n",
        "    with open(image_path, 'wb') as f:\n",
        "        f.write(response.content)\n",
        "    \n",
        "    print(f\"Downloaded image: {title}/{filename}\")\n"
      ],
      "metadata": {
        "colab": {
          "base_uri": "https://localhost:8080/"
        },
        "id": "6KEUkFaq5Q09",
        "outputId": "15d2c840-57a5-4573-ac79-43410f22723b"
      },
      "execution_count": 12,
      "outputs": [
        {
          "output_type": "stream",
          "name": "stdout",
          "text": [
            "Downloaded image: Instinct Institute (INS)/feature-image.jpg\n",
            "Downloaded image: ACLEDA Institute of Business  (AIB)/feature-image.jpg\n",
            "Downloaded image: Asia Institute of Science (AIS)/feature-image.jpg\n",
            "Downloaded image: Health Science Institute of RCAF (HSI)/feature-image.png\n",
            "Downloaded image: IT Academy STEP Institute (IT STEP)/feature-image.jpg\n",
            "Downloaded image: Industrial Technical Institute (ITI)/feature-image.jpg\n",
            "Downloaded image: Institute of Electrical Science (IES)/feature-image.jpg\n",
            "Downloaded image: Institute of Finance and Accounting (IFA)/feature-image.jpg\n",
            "Downloaded image: Institute of Technology of Cambodia (ITC)/feature-image.jpg\n",
            "Downloaded image: Kirirom Institute of Technology - KIT (KIT)/feature-image.jpg\n",
            "Downloaded image: Mong Reththy Agriculture Institute (MRAI)/feature-image.jpg\n",
            "Downloaded image: National Institute of Business (NIB)/feature-image.png\n"
          ]
        }
      ]
    },
    {
      "cell_type": "code",
      "source": [],
      "metadata": {
        "id": "zsGRQ-LU6n7A"
      },
      "execution_count": null,
      "outputs": []
    }
  ]
}